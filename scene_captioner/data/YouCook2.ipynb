{
 "cells": [
  {
   "cell_type": "code",
   "execution_count": 1,
   "id": "6776ec96-a6d7-4433-98b2-ad8e5ea2c21c",
   "metadata": {},
   "outputs": [
    {
     "ename": "NameError",
     "evalue": "name 'Path' is not defined",
     "output_type": "error",
     "traceback": [
      "\u001b[31m---------------------------------------------------------------------------\u001b[39m",
      "\u001b[31mNameError\u001b[39m                                 Traceback (most recent call last)",
      "\u001b[36mCell\u001b[39m\u001b[36m \u001b[39m\u001b[32mIn[1]\u001b[39m\u001b[32m, line 50\u001b[39m\n\u001b[32m     48\u001b[39m \u001b[38;5;66;03m# Initialize YouCook2 loader\u001b[39;00m\n\u001b[32m     49\u001b[39m dataset_path = \u001b[33m\"\u001b[39m\u001b[33m/workspace/vjepa2/dataset/raw_videos/training\u001b[39m\u001b[33m\"\u001b[39m\n\u001b[32m---> \u001b[39m\u001b[32m50\u001b[39m video_loader = \u001b[43mYouCook2VideoLoader\u001b[49m\u001b[43m(\u001b[49m\u001b[43mdataset_path\u001b[49m\u001b[43m,\u001b[49m\u001b[43m \u001b[49m\u001b[43mframes_per_clip\u001b[49m\u001b[43m=\u001b[49m\u001b[32;43m16\u001b[39;49m\u001b[43m,\u001b[49m\u001b[43m \u001b[49m\u001b[43mimg_size\u001b[49m\u001b[43m=\u001b[49m\u001b[32;43m384\u001b[39;49m\u001b[43m)\u001b[49m\n\u001b[32m     51\u001b[39m \u001b[38;5;28mprint\u001b[39m(\u001b[33mf\u001b[39m\u001b[33m\"\u001b[39m\u001b[33m:video_camera: YouCook2 loader initialized with \u001b[39m\u001b[38;5;132;01m{\u001b[39;00m\u001b[38;5;28mlen\u001b[39m(video_loader.video_files)\u001b[38;5;132;01m}\u001b[39;00m\u001b[33m videos\u001b[39m\u001b[33m\"\u001b[39m)\n\u001b[32m     52\u001b[39m \u001b[38;5;28mprint\u001b[39m(\u001b[33mf\u001b[39m\u001b[33m\"\u001b[39m\u001b[33m:clapper: Frame size: \u001b[39m\u001b[38;5;132;01m{\u001b[39;00mvideo_loader.img_size\u001b[38;5;132;01m}\u001b[39;00m\u001b[33mx\u001b[39m\u001b[38;5;132;01m{\u001b[39;00mvideo_loader.img_size\u001b[38;5;132;01m}\u001b[39;00m\u001b[33m\"\u001b[39m)\n",
      "\u001b[36mCell\u001b[39m\u001b[36m \u001b[39m\u001b[32mIn[1]\u001b[39m\u001b[32m, line 4\u001b[39m, in \u001b[36mYouCook2VideoLoader.__init__\u001b[39m\u001b[34m(self, data_path, frames_per_clip, img_size)\u001b[39m\n\u001b[32m      3\u001b[39m \u001b[38;5;28;01mdef\u001b[39;00m\u001b[38;5;250m \u001b[39m\u001b[34m__init__\u001b[39m(\u001b[38;5;28mself\u001b[39m, data_path, frames_per_clip=\u001b[32m16\u001b[39m, img_size=\u001b[32m384\u001b[39m):\n\u001b[32m----> \u001b[39m\u001b[32m4\u001b[39m     \u001b[38;5;28mself\u001b[39m.data_path = \u001b[43mPath\u001b[49m(data_path)\n\u001b[32m      5\u001b[39m     \u001b[38;5;28mself\u001b[39m.frames_per_clip = frames_per_clip\n\u001b[32m      6\u001b[39m     \u001b[38;5;28mself\u001b[39m.img_size = img_size\n",
      "\u001b[31mNameError\u001b[39m: name 'Path' is not defined"
     ]
    }
   ],
   "source": [
    "class YouCook2VideoLoader:\n",
    "    \"\"\"YouCook2 video dataset loader for VJEPA2 world model experiments.\"\"\"\n",
    "    def __init__(self, data_path, frames_per_clip=16, img_size=384):\n",
    "        self.data_path = Path(data_path)\n",
    "        self.frames_per_clip = frames_per_clip\n",
    "        self.img_size = img_size\n",
    "        # Find all video files\n",
    "        self.video_files = list(self.data_path.rglob(\"*.mp4\"))\n",
    "        print(f\"Found {len(self.video_files)} video files\")\n",
    "        if len(self.video_files) == 0:\n",
    "            raise ValueError(f\"No video files found in {data_path}\")\n",
    "    def load_video_frames(self, video_path, start_frame=None):\n",
    "        \"\"\"Load frames from a video file.\"\"\"\n",
    "        try:\n",
    "            vr = VideoReader(str(video_path), num_threads=-1, ctx=cpu(0))\n",
    "            vlen = len(vr)\n",
    "            if vlen < self.frames_per_clip:\n",
    "                print(f\":warning: Video too short: {vlen} < {self.frames_per_clip}\")\n",
    "                return None\n",
    "            # Sample frames\n",
    "            if start_frame is None:\n",
    "                start_frame = np.random.randint(0, vlen - self.frames_per_clip + 1)\n",
    "            end_frame = start_frame + self.frames_per_clip\n",
    "            indices = np.arange(start_frame, end_frame)\n",
    "            # Load frames\n",
    "            vr.seek(0)\n",
    "            frames = vr.get_batch(indices).asnumpy()  # Shape: (T, H, W, C)\n",
    "            # Resize frames\n",
    "            resized_frames = []\n",
    "            for frame in frames:\n",
    "                resized = cv2.resize(frame, (self.img_size, self.img_size))\n",
    "                resized_frames.append(resized)\n",
    "            frames = np.stack(resized_frames)  # (T, H, W, C)\n",
    "            return frames, indices\n",
    "        except Exception as e:\n",
    "            print(f\":x: Error loading video {video_path}: {e}\")\n",
    "            return None\n",
    "    def get_random_video_clip(self):\n",
    "        \"\"\"Get a random video clip from the dataset.\"\"\"\n",
    "        max_attempts = 10\n",
    "        for _ in range(max_attempts):\n",
    "            video_path = np.random.choice(self.video_files)\n",
    "            result = self.load_video_frames(video_path)\n",
    "            if result is not None:\n",
    "                frames, indices = result\n",
    "                return frames, video_path, indices\n",
    "        raise RuntimeError(\"Could not load any valid video after multiple attempts\")\n",
    "# Initialize YouCook2 loader\n",
    "dataset_path = \"/workspace/scene_captioner/data/\"\n",
    "video_loader = YouCook2VideoLoader(dataset_path, frames_per_clip=16, img_size=384)\n",
    "print(f\":video_camera: YouCook2 loader initialized with {len(video_loader.video_files)} videos\")\n",
    "print(f\":clapper: Frame size: {video_loader.img_size}x{video_loader.img_size}\")\n",
    "print(f\":1234: Frames per clip: {video_loader.frames_per_clip}\")"
   ]
  }
 ],
 "metadata": {
  "kernelspec": {
   "display_name": "Python 3 (ipykernel)",
   "language": "python",
   "name": "python3"
  },
  "language_info": {
   "codemirror_mode": {
    "name": "ipython",
    "version": 3
   },
   "file_extension": ".py",
   "mimetype": "text/x-python",
   "name": "python",
   "nbconvert_exporter": "python",
   "pygments_lexer": "ipython3",
   "version": "3.11.11"
  }
 },
 "nbformat": 4,
 "nbformat_minor": 5
}
