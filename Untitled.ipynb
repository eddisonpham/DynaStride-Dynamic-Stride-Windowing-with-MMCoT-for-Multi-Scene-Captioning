{
 "cells": [
  {
   "cell_type": "code",
   "execution_count": 1,
   "id": "68a4fb0f-3078-40bc-8d92-13e344c1ddcf",
   "metadata": {},
   "outputs": [
    {
     "name": "stdout",
     "output_type": "stream",
     "text": [
      "outputs: 0 defective entries\n",
      "\n",
      "TOTAL defective entries: 0\n"
     ]
    }
   ],
   "source": [
    "import os\n",
    "import json\n",
    "import glob\n",
    "\n",
    "total_count = 0\n",
    "\n",
    "# Find all folders matching \"outputs*\"\n",
    "folders = glob.glob(\"outputs*\")\n",
    "\n",
    "for output_dir in folders:\n",
    "    json_files = sorted(glob.glob(os.path.join(output_dir, \"*.json\")))\n",
    "    if not json_files:\n",
    "        print(f\"[{output_dir}] No .json files found.\")\n",
    "        continue\n",
    "\n",
    "    folder_count = 0\n",
    "\n",
    "    for json_path in json_files:\n",
    "        with open(json_path, \"r\", encoding=\"utf-8\") as f:\n",
    "            data = json.load(f)\n",
    "\n",
    "        # Iterate through each video and scene (scenes is a list of dicts)\n",
    "        for video_id, scenes in data.items():\n",
    "            if not isinstance(scenes, list):\n",
    "                continue\n",
    "            for scene in scenes:\n",
    "                if \"<ANSWER>\" in scene.get(\"predicted\", \"\"):\n",
    "                    total_count += 1\n",
    "                    folder_count += 1\n",
    "\n",
    "    print(f\"{output_dir}: {folder_count} defective entries\")\n",
    "\n",
    "print(f\"\\nTOTAL defective entries: {total_count}\")\n"
   ]
  }
 ],
 "metadata": {
  "kernelspec": {
   "display_name": "Python 3 (ipykernel)",
   "language": "python",
   "name": "python3"
  },
  "language_info": {
   "codemirror_mode": {
    "name": "ipython",
    "version": 3
   },
   "file_extension": ".py",
   "mimetype": "text/x-python",
   "name": "python",
   "nbconvert_exporter": "python",
   "pygments_lexer": "ipython3",
   "version": "3.11.11"
  }
 },
 "nbformat": 4,
 "nbformat_minor": 5
}
